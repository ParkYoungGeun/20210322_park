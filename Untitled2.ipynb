{
 "cells": [
  {
   "cell_type": "code",
   "execution_count": 45,
   "metadata": {},
   "outputs": [
    {
     "name": "stderr",
     "output_type": "stream",
     "text": [
      "No handles with labels found to put in legend.\n"
     ]
    },
    {
     "name": "stdout",
     "output_type": "stream",
     "text": [
      "17\n",
      "29\n",
      "6\n",
      "28\n",
      "[26, 31, 17, 29, 6, 28, 11, 12, 12, 1, 2]\n",
      "2\n",
      "count 175\n",
      "list2 0.011428571428571429\n",
      "0.011428571428571429\n",
      "11\n"
     ]
    },
    {
     "data": {
      "image/png": "[encoded data removed]",
      "text/plain": [
       "<Figure size 432x288 with 1 Axes>"
      ]
     },
     "metadata": {
      "needs_background": "light"
     },
     "output_type": "display_data"
    }
   ],
   "source": [
    "import csv\n",
    "import matplotlib\n",
    "import matplotlib.pyplot as plt\n",
    "import numpy as np\n",
    "from matplotlib import font_manager, rc#한글예제\n",
    "rc('font', family='HCR Dotum')#한글 예제\n",
    "f=open('210416.csv',encoding='cp949')\n",
    "data = csv.reader(f)\n",
    "header = next(data)\n",
    "gn=0\n",
    "gs=0\n",
    "jn=0\n",
    "js=0\n",
    "cn=0\n",
    "cs=0\n",
    "se=0\n",
    "g=0\n",
    "ga=0\n",
    "j=0\n",
    "etc=0\n",
    "count_1=0\n",
    "for i in data:\n",
    "    if '경북' in i[6] or '경상북도' in i[6] or '대구' in i[6]:\n",
    "        gn += 1\n",
    "        count_1 +=1\n",
    "    elif '경남' in i[6] or '경상남도' in i[6] or '부산' in i[6] or '울산' in i[6]:\n",
    "        gs += 1\n",
    "        count_1 +=1\n",
    "    elif '서울' in i[6]:\n",
    "        se+=1       \n",
    "        count_1 +=1\n",
    "    elif '전북' in i[6] or '전라북도' in i[6]:\n",
    "        jn+=1\n",
    "        count_1 +=1\n",
    "    elif '경기' in i[6] or '인천' in i[6]:\n",
    "        g+=1\n",
    "        count_1 +=1\n",
    "    elif '충북' in i[6] or '대전' in i[6] or '충청북도' in i[6]:\n",
    "        cn+=1   \n",
    "        count_1 +=1\n",
    "    elif '충남' in i[6] or '충청남도' in i[6]:\n",
    "        cs+=1     \n",
    "        count_1 +=1\n",
    "    elif '광주' in i[6] or '전남'in i[6] or '전라남도' in i[6]: \n",
    "        js+=1    \n",
    "        count_1 +=1\n",
    "    elif '강원' in i[6]:\n",
    "        ga+=1   \n",
    "        count_1 +=1\n",
    "    elif '제주' in i[6]:\n",
    "        j+=1    \n",
    "        count_1 +=1\n",
    "    else:\n",
    "        etc+=1\n",
    "        count_1 +=1\n",
    "\n",
    "print(gn)\n",
    "print(gs)\n",
    "print(jn)\n",
    "print(js)\n",
    "print(list1)\n",
    "print(etc)\n",
    "\n",
    "\n",
    "list1=[se,g,gn,gs,jn,js,cn,cs,ga,j,etc]\n",
    "list2=[20]\n",
    "for j in range(0,11):\n",
    "    list2=int(list1[j])/int(count_1)\n",
    "print(\"count\",count_1)    \n",
    "print(\"list2\",list2)\n",
    "print(list2)\n",
    "labels = ['서울','경기','경북','경남','전북','전남','충북','충남','강원도','제주','기타']\n",
    "print(len(labels))\n",
    "x = np.arange(len(labels))  # the label locations\n",
    "width = 0.55  # 막대 뚜께\n",
    "\n",
    "fig, ax = plt.subplots()\n",
    "rects1 = ax.bar(x , list1, width, color=['r','g','b','y','r','g','b','y','r','y','m'])\n",
    "\n",
    "# Add some text for labels, title and custom x-axis tick labels, etc.\n",
    "ax.set_ylabel('인구')\n",
    "ax.set_title('코로나 확진자')\n",
    "ax.set_xticks(x)\n",
    "ax.set_xticklabels(labels)\n",
    "\n",
    "ax.legend()\n",
    "\n",
    "\n",
    "fig.tight_layout()\n",
    "\n",
    "plt.show()\n",
    "f.close()"
   ]
  },
  {
   "cell_type": "code",
   "execution_count": null,
   "metadata": {},
   "outputs": [],
   "source": []
  },
  {
   "cell_type": "raw",
   "metadata": {},
   "source": [
    "import numpy as np\n",
    "import matplotlib.pyplot as plt\n",
    "\n",
    "fig, ax = plt.subplots(figsize=(6, 3), subplot_kw=dict(aspect=\"equal\"))\n",
    "\n",
    "recipe = [\"375 g flour\",\n",
    "          \"75 g sugar\",\n",
    "          \"250 g butter\",\n",
    "          \"300 g berries\"]\n",
    "\n",
    "data = [float(x.split()[0]) for x in recipe]\n",
    "ingredients = [x.split()[-3] for x in recipe]\n",
    "\n",
    "\n",
    "def func(pct, allvals):\n",
    "    absolute = int(round(pct/100.*np.sum(allvals)))\n",
    "    return \"{:.1f}%\\n({:d} g)\".format(pct, absolute)\n",
    "\n",
    "\n",
    "wedges, texts, autotexts = ax.pie(data, autopct=lambda pct: func(pct, data),\n",
    "                                  textprops=dict(color=\"w\"))\n",
    "#color 파일그래프 글씨 색낄\n",
    "\n",
    "ax.legend(wedges, ingredients,\n",
    "          title=\"bbb\",\n",
    "          loc=\"center left\",\n",
    "          bbox_to_anchor=(1, 0, 0.5, 1))\n",
    "\n",
    "plt.setp(autotexts, size=8, weight=\"bold\")\n",
    "#파일그래프 글씨 크기\n",
    "\n",
    "ax.set_title(\"aaa\")\n",
    "\n",
    "plt.show()"
   ]
  },
  {
   "cell_type": "code",
   "execution_count": 25,
   "metadata": {},
   "outputs": [
    {
     "data": {
      "image/png": "[encoded data removed]",
      "text/plain": [
       "<Figure size 432x288 with 1 Axes>"
      ]
     },
     "metadata": {},
     "output_type": "display_data"
    }
   ],
   "source": [
    "import matplotlib.pyplot as plt\n",
    "\n",
    "# Pie chart, where the slices will be ordered and plotted counter-clockwise:\n",
    "labels = 'Frogs', 'Hogs', 'Dogs', 'Logs'\n",
    "sizes = [15, 30, 45, 10]\n",
    "explode = (0, 0.1, 0, 0)  # only \"explode\" the 2nd slice (i.e. 'Hogs')\n",
    "\n",
    "fig1, ax1 = plt.subplots()\n",
    "ax1.pie(sizes, explode=explode, labels=labels, autopct='%1.1f%%',\n",
    "        shadow=True, startangle=90)\n",
    "ax1.axis('equal')  # Equal aspect ratio ensures that pie is drawn as a circle.\n",
    "\n",
    "plt.show()"
   ]
  },
  {
   "cell_type": "code",
   "execution_count": null,
   "metadata": {},
   "outputs": [],
   "source": []
  }
 ],
 "metadata": {
  "kernelspec": {
   "display_name": "Python 3",
   "language": "python",
   "name": "python3"
  },
  "language_info": {
   "codemirror_mode": {
    "name": "ipython",
    "version": 3
   },
   "file_extension": ".py",
   "mimetype": "text/x-python",
   "name": "python",
   "nbconvert_exporter": "python",
   "pygments_lexer": "ipython3",
   "version": "3.8.5"
  }
 },
 "nbformat": 4,
 "nbformat_minor": 4
}
