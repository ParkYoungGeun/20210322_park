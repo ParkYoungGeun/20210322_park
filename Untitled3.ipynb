{
 "cells": [
  {
   "cell_type": "code",
   "execution_count": 18,
   "metadata": {},
   "outputs": [
    {
     "ename": "ValueError",
     "evalue": "'label' must be of length 'x'",
     "output_type": "error",
     "traceback": [
      "\u001b[1;31m---------------------------------------------------------------------------\u001b[0m",
      "\u001b[1;31mValueError\u001b[0m                                Traceback (most recent call last)",
      "\u001b[1;32m<ipython-input-18-475de9e21896>\u001b[0m in \u001b[0;36m<module>\u001b[1;34m\u001b[0m\n\u001b[0;32m     51\u001b[0m \u001b[1;33m\u001b[0m\u001b[0m\n\u001b[0;32m     52\u001b[0m \u001b[0mfig1\u001b[0m\u001b[1;33m,\u001b[0m \u001b[0max1\u001b[0m \u001b[1;33m=\u001b[0m \u001b[0mplt\u001b[0m\u001b[1;33m.\u001b[0m\u001b[0msubplots\u001b[0m\u001b[1;33m(\u001b[0m\u001b[1;33m)\u001b[0m\u001b[1;33m\u001b[0m\u001b[1;33m\u001b[0m\u001b[0m\n\u001b[1;32m---> 53\u001b[1;33m ax1.pie(list1, explode=explode, labels=labels, autopct='%1.1f%%',\n\u001b[0m\u001b[0;32m     54\u001b[0m         shadow=True, startangle=90)\n\u001b[0;32m     55\u001b[0m \u001b[0max1\u001b[0m\u001b[1;33m.\u001b[0m\u001b[0maxis\u001b[0m\u001b[1;33m(\u001b[0m\u001b[1;34m'equal'\u001b[0m\u001b[1;33m)\u001b[0m\u001b[1;33m\u001b[0m\u001b[1;33m\u001b[0m\u001b[0m\n",
      "\u001b[1;32m~\\anaconda3\\lib\\site-packages\\matplotlib\\__init__.py\u001b[0m in \u001b[0;36minner\u001b[1;34m(ax, data, *args, **kwargs)\u001b[0m\n\u001b[0;32m   1436\u001b[0m     \u001b[1;32mdef\u001b[0m \u001b[0minner\u001b[0m\u001b[1;33m(\u001b[0m\u001b[0max\u001b[0m\u001b[1;33m,\u001b[0m \u001b[1;33m*\u001b[0m\u001b[0margs\u001b[0m\u001b[1;33m,\u001b[0m \u001b[0mdata\u001b[0m\u001b[1;33m=\u001b[0m\u001b[1;32mNone\u001b[0m\u001b[1;33m,\u001b[0m \u001b[1;33m**\u001b[0m\u001b[0mkwargs\u001b[0m\u001b[1;33m)\u001b[0m\u001b[1;33m:\u001b[0m\u001b[1;33m\u001b[0m\u001b[1;33m\u001b[0m\u001b[0m\n\u001b[0;32m   1437\u001b[0m         \u001b[1;32mif\u001b[0m \u001b[0mdata\u001b[0m \u001b[1;32mis\u001b[0m \u001b[1;32mNone\u001b[0m\u001b[1;33m:\u001b[0m\u001b[1;33m\u001b[0m\u001b[1;33m\u001b[0m\u001b[0m\n\u001b[1;32m-> 1438\u001b[1;33m             \u001b[1;32mreturn\u001b[0m \u001b[0mfunc\u001b[0m\u001b[1;33m(\u001b[0m\u001b[0max\u001b[0m\u001b[1;33m,\u001b[0m \u001b[1;33m*\u001b[0m\u001b[0mmap\u001b[0m\u001b[1;33m(\u001b[0m\u001b[0msanitize_sequence\u001b[0m\u001b[1;33m,\u001b[0m \u001b[0margs\u001b[0m\u001b[1;33m)\u001b[0m\u001b[1;33m,\u001b[0m \u001b[1;33m**\u001b[0m\u001b[0mkwargs\u001b[0m\u001b[1;33m)\u001b[0m\u001b[1;33m\u001b[0m\u001b[1;33m\u001b[0m\u001b[0m\n\u001b[0m\u001b[0;32m   1439\u001b[0m \u001b[1;33m\u001b[0m\u001b[0m\n\u001b[0;32m   1440\u001b[0m         \u001b[0mbound\u001b[0m \u001b[1;33m=\u001b[0m \u001b[0mnew_sig\u001b[0m\u001b[1;33m.\u001b[0m\u001b[0mbind\u001b[0m\u001b[1;33m(\u001b[0m\u001b[0max\u001b[0m\u001b[1;33m,\u001b[0m \u001b[1;33m*\u001b[0m\u001b[0margs\u001b[0m\u001b[1;33m,\u001b[0m \u001b[1;33m**\u001b[0m\u001b[0mkwargs\u001b[0m\u001b[1;33m)\u001b[0m\u001b[1;33m\u001b[0m\u001b[1;33m\u001b[0m\u001b[0m\n",
      "\u001b[1;32m~\\anaconda3\\lib\\site-packages\\matplotlib\\axes\\_axes.py\u001b[0m in \u001b[0;36mpie\u001b[1;34m(self, x, explode, labels, colors, autopct, pctdistance, shadow, labeldistance, startangle, radius, counterclock, wedgeprops, textprops, center, frame, rotatelabels, normalize)\u001b[0m\n\u001b[0;32m   3022\u001b[0m             \u001b[0mexplode\u001b[0m \u001b[1;33m=\u001b[0m \u001b[1;33m[\u001b[0m\u001b[1;36m0\u001b[0m\u001b[1;33m]\u001b[0m \u001b[1;33m*\u001b[0m \u001b[0mlen\u001b[0m\u001b[1;33m(\u001b[0m\u001b[0mx\u001b[0m\u001b[1;33m)\u001b[0m\u001b[1;33m\u001b[0m\u001b[1;33m\u001b[0m\u001b[0m\n\u001b[0;32m   3023\u001b[0m         \u001b[1;32mif\u001b[0m \u001b[0mlen\u001b[0m\u001b[1;33m(\u001b[0m\u001b[0mx\u001b[0m\u001b[1;33m)\u001b[0m \u001b[1;33m!=\u001b[0m \u001b[0mlen\u001b[0m\u001b[1;33m(\u001b[0m\u001b[0mlabels\u001b[0m\u001b[1;33m)\u001b[0m\u001b[1;33m:\u001b[0m\u001b[1;33m\u001b[0m\u001b[1;33m\u001b[0m\u001b[0m\n\u001b[1;32m-> 3024\u001b[1;33m             \u001b[1;32mraise\u001b[0m \u001b[0mValueError\u001b[0m\u001b[1;33m(\u001b[0m\u001b[1;34m\"'label' must be of length 'x'\"\u001b[0m\u001b[1;33m)\u001b[0m\u001b[1;33m\u001b[0m\u001b[1;33m\u001b[0m\u001b[0m\n\u001b[0m\u001b[0;32m   3025\u001b[0m         \u001b[1;32mif\u001b[0m \u001b[0mlen\u001b[0m\u001b[1;33m(\u001b[0m\u001b[0mx\u001b[0m\u001b[1;33m)\u001b[0m \u001b[1;33m!=\u001b[0m \u001b[0mlen\u001b[0m\u001b[1;33m(\u001b[0m\u001b[0mexplode\u001b[0m\u001b[1;33m)\u001b[0m\u001b[1;33m:\u001b[0m\u001b[1;33m\u001b[0m\u001b[1;33m\u001b[0m\u001b[0m\n\u001b[0;32m   3026\u001b[0m             \u001b[1;32mraise\u001b[0m \u001b[0mValueError\u001b[0m\u001b[1;33m(\u001b[0m\u001b[1;34m\"'explode' must be of length 'x'\"\u001b[0m\u001b[1;33m)\u001b[0m\u001b[1;33m\u001b[0m\u001b[1;33m\u001b[0m\u001b[0m\n",
      "\u001b[1;31mValueError\u001b[0m: 'label' must be of length 'x'"
     ]
    },
    {
     "data": {
      "image/png": "[encoded data removed]",
      "text/plain": [
       "<Figure size 432x288 with 1 Axes>"
      ]
     },
     "metadata": {
      "needs_background": "light"
     },
     "output_type": "display_data"
    }
   ],
   "source": [
    "import csv\n",
    "import numpy as np\n",
    "import matplotlib\n",
    "import matplotlib.pyplot as plt\n",
    "from matplotlib import font_manager, rc#한글예제\n",
    "\n",
    "rc('font', family='HCR Dotum')#한글 예제\n",
    "f=open('210416.csv',encoding='cp949')\n",
    "data = csv.reader(f)\n",
    "header = next(data)\n",
    "gn=0\n",
    "gs=0\n",
    "jn=0\n",
    "js=0\n",
    "cn=0\n",
    "cs=0\n",
    "se=0\n",
    "g=0\n",
    "ga=0\n",
    "j=0\n",
    "etc=0\n",
    "    \n",
    "for i in data:\n",
    "    \n",
    "    if '경북' in i[6] or '경상북도' in i[6] or '대구' in i[6]:\n",
    "        gn += 1\n",
    "        count_1 +=1\n",
    "    elif '경남' in i[6] or '경상남도' in i[6] or '부산' in i[6] or '울산' in i[6]:\n",
    "        gs += 1\n",
    "        count_1 +=1\n",
    "    elif '서울' in i[6]:\n",
    "        se+=1  \n",
    "        count_1 +=1\n",
    "    elif '전북' in i[6] or '전라북도' in i[6]:\n",
    "        jn+=1\n",
    "        count_1 +=1\n",
    "    elif '경기' in i[6] or '인천' in i[6]:\n",
    "        g+=1\n",
    "        count_1 +=1\n",
    "    elif '충북' in i[6] or '대전' in i[6] or '충청북도' in i[6]:\n",
    "        cn+=1 \n",
    "        count_1 +=1\n",
    "    elif '충남' in i[6] or '충청남도' in i[6]:\n",
    "        cs+=1  \n",
    "        count_1 +=1\n",
    "    elif '광주' in i[6] or '전남'in i[6] or '전라남도' in i[6]: \n",
    "        js+=1  \n",
    "        count_1 +=1\n",
    "    elif '강원' in i[6]:\n",
    "        ga+=1   \n",
    "        count_1 +=1\n",
    "    elif '제주' in i[6]:\n",
    "        j+=1 \n",
    "        count_1 +=1\n",
    "    else:\n",
    "        etc+=1\n",
    "        count_1 +=1\n",
    "\n",
    "labels = '서울','경기','경북','경남','전북','전남','충북','충남','강원도','제주','기타'\n",
    "list1=[se,g,gn,gs,jn,js,cn,cs,ga,j,etc]\n",
    "list2=[]\n",
    "for i in data\n",
    "    list[2]=int(list1[i])/int(count_1)\n",
    "\n",
    "explode = (0, 0.1, 0, 0)  # only \"explode\" the 2nd slice (i.e. 'Hogs')\n",
    "\n",
    "fig1, ax1 = plt.subplots()\n",
    "ax1.pie(list1, explode=explode, labels=labels, autopct='%1.1f%%',\n",
    "        shadow=True, startangle=90)\n",
    "ax1.axis('equal') \n",
    "\n",
    "\n",
    "plt.show()"
   ]
  },
  {
   "cell_type": "code",
   "execution_count": 13,
   "metadata": {},
   "outputs": [],
   "source": [
    "def list_chunk(lst, n):\n",
    "    return [lst[i:i+n] for i in range(0, len(lst), n)]"
   ]
  },
  {
   "cell_type": "code",
   "execution_count": 28,
   "metadata": {},
   "outputs": [
    {
     "name": "stdout",
     "output_type": "stream",
     "text": [
      "[[4, 2, 0, 1, 0, 0, 0, 2], [4, 4, 0, 0, 1, 2, 0, 3], [9, 3, 0, 0, 0, 1, 0, 1], [10, 2, 1, 1, 0, 0, 0, 1], [7, 3, 2, 1, 0, 1, 0, 2], [6, 4, 0, 2, 1, 1, 0, 2], [12, 2, 0, 1, 1, 0, 0, 0], [10, 3, 1, 1, 0, 1, 0, 1], [8, 2, 0, 3, 0, 0, 0, 2], [2, 1, 0, 0, 0, 0, 0, 0]]\n"
     ]
    },
    {
     "data": {
      "image/png": "[encoded data removed]",
      "text/plain": [
       "<Figure size 662.4x360 with 1 Axes>"
      ]
     },
     "metadata": {
      "needs_background": "light"
     },
     "output_type": "display_data"
    }
   ],
   "source": [
    "import numpy as np\n",
    "import matplotlib.pyplot as plt\n",
    "from matplotlib import font_manager, rc#한글\n",
    "import csv\n",
    "\n",
    "list1=['액션','드라마','SF','어린이','판타지','스릴러','재난','코미디']\n",
    "list2=[]\n",
    "list3=[]\n",
    "a=0\n",
    "for k in range(2011,2021):    \n",
    "    \n",
    "    for j in range(8):   \n",
    "        f=open('Data_List_A3.csv',encoding='cp949')\n",
    "        data = csv.reader(f)\n",
    "        header=next(data)\n",
    "        for i in data:\n",
    "            if str(k) in i[2]:\n",
    "                if list1[j] in i[11]:\n",
    "                    a+=1\n",
    "        \n",
    "          \n",
    "        list2.append(a)\n",
    "        f.close()\n",
    "        a=0        \n",
    "list3 = list_chunk(list2,8)\n",
    "print(list3)\n",
    "rc('font', family='HCR Dotum')#한글\n",
    "\n",
    "#category_names = ['액션','드라마','SF','어린이','판타지','스릴러','재난','코미디']\n",
    "results = {\n",
    "    '2011': list3[0],\n",
    "    '2012': list3[1],\n",
    "    '2013': list3[2],\n",
    "    '2014': list3[3],\n",
    "    '2015': list3[4],\n",
    "    '2016': list3[5],\n",
    "    '2017': list3[6],\n",
    "    '2018': list3[7],\n",
    "    '2019': list3[8],\n",
    "    '2020': list3[9]\n",
    "}\n",
    "\n",
    "\n",
    "def survey(results, category_names):\n",
    "    labels = list(results.keys())\n",
    "    data = np.array(list(results.values()))\n",
    "    data_cum = data.cumsum(axis=1)\n",
    "    category_colors = plt.get_cmap('RdYlGn')(\n",
    "        np.linspace(0.15, 0.85, data.shape[1]))\n",
    "\n",
    "    fig, ax = plt.subplots(figsize=(9.2, 5))\n",
    "    ax.invert_yaxis()\n",
    "    ax.xaxis.set_visible(False)\n",
    "    ax.set_xlim(0, np.sum(data, axis=1).max())\n",
    "\n",
    "    for i, (colname, color) in enumerate(zip(list1, category_colors)):\n",
    "        widths = data[:, i]\n",
    "        starts = data_cum[:, i] - widths\n",
    "        rects = ax.barh(labels, widths, left=starts, height=0.75,\n",
    "                        label=colname, color=color)\n",
    "\n",
    "        r, g, b, _ = color\n",
    "        text_color = 'white' if r * g * b < 0.5 else 'darkgrey'\n",
    "    ax.legend(ncol=len(list1), bbox_to_anchor=(0, 1),\n",
    "              loc='lower left', fontsize='small')\n",
    "\n",
    "    return fig, ax\n",
    "\n",
    "\n",
    "survey(results, list1)\n",
    "plt.show()"
   ]
  },
  {
   "cell_type": "code",
   "execution_count": 39,
   "metadata": {},
   "outputs": [
    {
     "data": {
      "image/png": "[encoded data removed]",
      "text/plain": [
       "<Figure size 432x288 with 1 Axes>"
      ]
     },
     "metadata": {
      "needs_background": "light"
     },
     "output_type": "display_data"
    },
    {
     "data": {
      "image/png": "[encoded data removed]",
      "text/plain": [
       "<Figure size 432x288 with 1 Axes>"
      ]
     },
     "metadata": {
      "needs_background": "light"
     },
     "output_type": "display_data"
    },
    {
     "data": {
      "image/png": "[encoded data removed]",
      "text/plain": [
       "<Figure size 432x288 with 1 Axes>"
      ]
     },
     "metadata": {
      "needs_background": "light"
     },
     "output_type": "display_data"
    },
    {
     "data": {
      "image/png": "[encoded data removed]",
      "text/plain": [
       "<Figure size 432x288 with 1 Axes>"
      ]
     },
     "metadata": {
      "needs_background": "light"
     },
     "output_type": "display_data"
    }
   ],
   "source": [
    "\n",
    "import matplotlib.pyplot as plt\n",
    "\n",
    "import pandas as pd\n",
    "\n",
    "import numpy as np\n",
    "\n",
    "\n",
    "\n",
    "# The plot method on Series and DataFrame is just a simple wrapper around plt.plot():\n",
    "\n",
    "ts = pd.Series(np.random.randn(1000), index=pd.date_range('1/1/2000', periods=1000))\n",
    "\n",
    "ts = ts.cumsum()\n",
    "\n",
    "\n",
    "\n",
    "#  plot() is a convenience to plot all of the columns with labels:\n",
    "\n",
    "df = pd.DataFrame(np.random.randn(1000, 4), index=ts.index, columns=list('ABCD'))\n",
    "\n",
    "df = df.cumsum()\n",
    "\n",
    "\n",
    "\n",
    "# 1. 막대 그래프 그리기\n",
    "\n",
    "plt.figure();\n",
    "\n",
    "df.iloc[5].plot(kind='bar');\n",
    "\n",
    "\n",
    "\n",
    "# 2. 여러 컬럼으로 만들기\n",
    "\n",
    "df2 = pd.DataFrame(np.random.rand(10, 4), columns=['a', 'b', 'c', 'd'])\n",
    "\n",
    "df2.plot.bar();\n",
    "\n",
    "\n",
    "\n",
    "# 3. 축적막대그래프 (세로)\n",
    "\n",
    "df2.plot.bar(stacked=True);\n",
    "\n",
    "\n",
    "\n",
    "# 4. 축적막대그래프 (가로)\n",
    "\n",
    "df2.plot.barh(stacked=True); "
   ]
  },
  {
   "cell_type": "code",
   "execution_count": 37,
   "metadata": {},
   "outputs": [],
   "source": [
    "import pandas as pd\n",
    "import matplotlib.pyplot as plt\n",
    "\n",
    "# data and dataframe\n",
    "data = {'Date': ['01/01/2020', '01/01/2020', '01/01/2020', '02/01/2020', '02/01/2020', '02/01/2020'],\n",
    "        'Text': [['cura']*25, ['destra']*24, ['fino']*18, ['italia']*137, ['turismo']*112, ['nuovi']*109]}\n",
    "\n",
    "df = pd.DataFrame(data)\n",
    "\n",
    "df = df.explode('Text')\n",
    "\n",
    "df.Date = pd.to_datetime(df.Date)"
   ]
  },
  {
   "cell_type": "code",
   "execution_count": null,
   "metadata": {},
   "outputs": [],
   "source": []
  }
 ],
 "metadata": {
  "kernelspec": {
   "display_name": "Python 3",
   "language": "python",
   "name": "python3"
  },
  "language_info": {
   "codemirror_mode": {
    "name": "ipython",
    "version": 3
   },
   "file_extension": ".py",
   "mimetype": "text/x-python",
   "name": "python",
   "nbconvert_exporter": "python",
   "pygments_lexer": "ipython3",
   "version": "3.8.5"
  }
 },
 "nbformat": 4,
 "nbformat_minor": 4
}
