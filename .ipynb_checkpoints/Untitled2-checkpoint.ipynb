{
 "cells": [
  {
   "cell_type": "code",
   "execution_count": 21,
   "metadata": {},
   "outputs": [
    {
     "name": "stderr",
     "output_type": "stream",
     "text": [
      "No handles with labels found to put in legend.\n"
     ]
    },
    {
     "name": "stdout",
     "output_type": "stream",
     "text": [
      "['2', '중앙/권역', '코로나19 중부권역 예방접종센터', '순천향대 천안병원', '천안시 실내배드민턴장 1층', '31212', '충청남도 천안시 동남구 천안대로 357']\n",
      "['12', '지역', '코로나19 세종특별자치시 예방접종센터', '', '남세종종합청소년센터', '30099', '세종특별자치시 달빛1로 227']\n",
      "['16', '지역', '코로나19 충청북도 청주시 예방접종센터', '', '상당구청 스포츠센터', '28806', '충청북도 청주시 상당구 남일면 단재로 466']\n",
      "['18', '지역', '코로나19 전라북도 전주시 예방접종센터', '', '화산체육관', '54984', '전주시 완산구 백제대로 310']\n",
      "['39', '지역', '코로나19 충청북도 충주시 예방접종센터', '', '충주체육관', '27371', '충청북도 충주시 예성로 266']\n",
      "['40', '지역', '코로나19 충청북도 음성군 예방접종센터', '', '음성실내체육관', '27704', '충청북도 음성군 설성로 47']\n",
      "['41', '지역', '코로나19 충청남도 아산시 예방접종센터', '', '이순신종합운동장 복합스포츠센터', '31528', '충청남도 아산시 남부로 370-24']\n",
      "['42', '지역', '코로나19 충청남도 논산시 예방접종센터', '', '시민운동장', '32993', '충청남도 논산시 체육로 110']\n",
      "['46', '지역', '코로나19 전라남도 여수시 예방접종센터', '', '흥국체육관', '59676', '전라남도 여수시 선소로 93']\n",
      "['47', '지역', '코로나19 전라남도 순천시 예방접종센터', '', '순천대학교 국제문화컨벤션관', '57922', '전라남도 순천시 중앙로 235']\n",
      "['126', '지역', '코로나19 충청북도 청주시 서원구 예방접종센터', '', '청주체육관', '28559', '충청북도 청주시 서원구 사직대로 229']\n",
      "['127', '지역', '코로나19 충청북도 제천시 예방접종센터', '', '제천체육관', '27182', '충청북도 제천시 숭의로 85(화산동)']\n",
      "['128', '지역', '코로나19 충청북도 옥천군 예방접종센터', '', '옥천체육센터', '29039', '충청북도 옥천군 옥천읍 관성로 53']\n",
      "['129', '지역', '코로나19 충청남도 공주시 예방접종센터', '', '백제체육관', '32535', '충청남도 공주시 고마나루길 51-14']\n",
      "['130', '지역', '코로나19 충청남도 보령시 예방접종센터', '', '보령종합체육관', '33494', '충청남도 보령시 보령남로 339']\n",
      "['131', '지역', '코로나19 충청남도 부여군 예방접종센터', '', '부여국민체육센터', '33117', '충청남도 부여군 규암면 호수로 82']\n",
      "['132', '지역', '코로나19 충청남도 서천군 예방접종센터', '', '서천국민체육센터', '33651', '충청남도 서천군 마서면 마서로 400']\n",
      "['133', '지역', '코로나19 충청남도 예산군 예방접종센터', '', '윤봉길체육관', '32438', '충청남도 예산군 예산읍 예산로 352']\n",
      "['134', '지역', '코로나19 충청남도 태안군 예방접종센터', '', '태안군민체육관', '32140', '충청남도 태안군 태안읍 백화로 200']\n",
      "['136', '지역', '코로나19 충청남도 당진시 예방접종센터', '', '송악문화스포츠센터', '31732', '충청남도 당진시 송악읍 틀무시로 830']\n",
      "['139', '지역', '코로나19 전라남도 나주시 예방접종센터', '', '나주종합스포츠파크(다목적체육관)', '58253', '전라남도 나주시 영산강변로 99(송월동)']\n",
      "['140', '지역', '코로나19 전라남도 담양군 예방접종센터', '', '담양문화회관', '57344', '전라남도 담양군 담양읍 지침6길 29']\n",
      "['141', '지역', '코로나19 전라남도 곡성군 예방접종센터', '', '곡성문화체육관', '57535', '전라남도 곡성군 곡성읍 곡성로 855']\n",
      "['142', '지역', '코로나19 전라남도 고흥군 예방접종센터', '', '팔영체육관', '59536', '전라남도 고흥군 고흥읍 고흥로 1892-67']\n",
      "['143', '지역', '코로나19 전라남도 보성군 예방접종센터', '', '다향체육관', '59451', '전라남도 보성군 보성읍 용문길 18']\n",
      "['144', '지역', '코로나19 전라남도 장흥군 예방접종센터', '', '장흥군 실내체육관', '59333', '전라남도 장흥군 장흥읍 읍성로 5-28']\n",
      "['145', '지역', '코로나19 전라남도 화순군 예방접종센터', '', '이용대체육관', '58149', '전라남도 화순군 화순읍 학포로 2698']\n",
      "['146', '지역', '코로나19 전라남도 강진군 예방접종센터', '', '제2실내체육관', '59223', '전라남도 강진군 강진읍 종합운동장길 60']\n",
      "['147', '지역', '코로나19 전라남도 영암군 예방접종센터', '', '영암실내체육관', '58418', '전라남도 영암군 영암읍 영암로 1527']\n",
      "['148', '지역', '코로나19 전라남도 무안군 예방접종센터', '', '무안종합스포츠파크 실내체육관', '58517', '전라남도 무안군 현경면 공항로 345']\n",
      "['149', '지역', '코로나19 전라남도 함평군 예방접종센터', '', '문화체육센터', '57145', '전라남도 함평군 대동면 함장로 1377']\n",
      "['150', '지역', '코로나19 전라남도 장성군 예방접종센터', '', '군민회관', '57220', '전라남도 장성군 장성읍 청운7길 10']\n",
      "['151', '지역', '코로나19 전라남도 완도군 예방접종센터', '', '농어민문화체육센터', '59109', '전라남도 완도군 완도읍 개포로 111']\n",
      "['152', '지역', '코로나19 전라남도 진도군 예방접종센터', '', '진도군 실내체육관', '58927', '전라남도 진도군 진도읍 공설운동장길 57']\n",
      "['153', '지역', '코로나19 전라남도 신안군 예방접종센터', '', '신안군민체육관', '58821', '전라남도 신안군 압해읍 복룡로 120']\n",
      "17\n",
      "29\n",
      "6\n",
      "11\n",
      "[26, 31, 17, 29, 6, 11, 5, 2, 12, 1, 35]\n",
      "35\n",
      "11\n"
     ]
    },
    {
     "data": {
      "image/png": "[encoded data removed]",
      "text/plain": [
       "<Figure size 432x288 with 1 Axes>"
      ]
     },
     "metadata": {
      "needs_background": "light"
     },
     "output_type": "display_data"
    }
   ],
   "source": [
    "import csv\n",
    "import matplotlib\n",
    "import matplotlib.pyplot as plt\n",
    "import numpy as np\n",
    "from matplotlib import font_manager, rc#한글예제\n",
    "rc('font', family='HCR Dotum')#한글 예제\n",
    "f=open('210416.csv',encoding='cp949')\n",
    "data = csv.reader(f)\n",
    "header = next(data)\n",
    "gn=0\n",
    "gs=0\n",
    "jn=0\n",
    "js=0\n",
    "cn=0\n",
    "cs=0\n",
    "se=0\n",
    "g=0\n",
    "ga=0\n",
    "j=0\n",
    "etc=0\n",
    "for i in data:\n",
    "    if '경북' in i[6] or '경상북도' in i[6] or '대구' in i[6]:\n",
    "        gn += 1\n",
    "    elif '경남' in i[6] or '경상남도' in i[6] or '부산' in i[6] or '울산' in i[6]:\n",
    "        gs += 1\n",
    "    elif '서울' in i[6]:\n",
    "        se+=1       \n",
    "    elif '전북' in i[6] or '전라북도' in i[6]:\n",
    "        jn+=1\n",
    "    elif '경기' in i[6] or '인천' in i[6]:\n",
    "        g+=1\n",
    "    elif '충북' in i[6] or '대전' in i[6] '충청북도' in i[6]:\n",
    "        cn+=1   \n",
    "    elif '충남' in i[6] '충청남도' in i[6]:\n",
    "        cs+=1           \n",
    "    elif '광주' in i[6] or '전남'in i[6] '전라남도' in i[6]: \n",
    "        js+=1    \n",
    "    elif '강원' in i[6]:\n",
    "        ga+=1   \n",
    "    elif '제주' in i[6]:\n",
    "        j+=1        \n",
    "    else:\n",
    "        print(i)\n",
    "        etc+=1\n",
    "\n",
    "print(gn)\n",
    "print(gs)\n",
    "print(jn)\n",
    "print(js)\n",
    "print(list1)\n",
    "print(etc)\n",
    "\n",
    "\n",
    "labels = ['서울','경기','경북','경남','전북','전남','충북','충남','강원도','제주','기타']\n",
    "list1=[se,g,gn,gs,jn,js,cn,cs,ga,j,etc]\n",
    "print(len(labels))\n",
    "x = np.arange(len(labels))  # the label locations\n",
    "width = 0.55  # 막대 뚜께\n",
    "\n",
    "fig, ax = plt.subplots()\n",
    "rects1 = ax.bar(x , list1, width, color=['r','g','b','y','r','g','b','y','r','y','m'])\n",
    "\n",
    "# Add some text for labels, title and custom x-axis tick labels, etc.\n",
    "ax.set_ylabel('인구')\n",
    "ax.set_title('코로나 확진자')\n",
    "ax.set_xticks(x)\n",
    "ax.set_xticklabels(labels)\n",
    "\n",
    "ax.legend()\n",
    "\n",
    "\n",
    "fig.tight_layout()\n",
    "\n",
    "plt.show()\n",
    "f.close()"
   ]
  },
  {
   "cell_type": "code",
   "execution_count": 20,
   "metadata": {},
   "outputs": [
    {
     "data": {
      "image/png": "[encoded data removed]",
      "text/plain": [
       "<Figure size 432x216 with 1 Axes>"
      ]
     },
     "metadata": {},
     "output_type": "display_data"
    }
   ],
   "source": [
    "import numpy as np\n",
    "import matplotlib.pyplot as plt\n",
    "\n",
    "fig, ax = plt.subplots(figsize=(6, 3), subplot_kw=dict(aspect=\"equal\"))\n",
    "\n",
    "recipe = [\"375 g flour\",\n",
    "          \"75 g sugar\",\n",
    "          \"250 g butter\",\n",
    "          \"300 g berries\"]\n",
    "\n",
    "data = [float(x.split()[0]) for x in recipe]\n",
    "ingredients = [x.split()[-3] for x in recipe]\n",
    "\n",
    "\n",
    "def func(pct, allvals):\n",
    "    absolute = int(round(pct/100.*np.sum(allvals)))\n",
    "    return \"{:.1f}%\\n({:d} g)\".format(pct, absolute)\n",
    "\n",
    "\n",
    "wedges, texts, autotexts = ax.pie(data, autopct=lambda pct: func(pct, data),\n",
    "                                  textprops=dict(color=\"w\"))\n",
    "#color 파일그래프 글씨 색낄\n",
    "\n",
    "ax.legend(wedges, ingredients,\n",
    "          title=\"bbb\",\n",
    "          loc=\"center left\",\n",
    "          bbox_to_anchor=(1, 0, 0.5, 1))\n",
    "\n",
    "plt.setp(autotexts, size=8, weight=\"bold\")\n",
    "#파일그래프 글씨 크기\n",
    "\n",
    "ax.set_title(\"aaa\")\n",
    "\n",
    "plt.show()"
   ]
  },
  {
   "cell_type": "code",
   "execution_count": null,
   "metadata": {},
   "outputs": [],
   "source": []
  },
  {
   "cell_type": "code",
   "execution_count": null,
   "metadata": {},
   "outputs": [],
   "source": []
  }
 ],
 "metadata": {
  "kernelspec": {
   "display_name": "Python 3",
   "language": "python",
   "name": "python3"
  },
  "language_info": {
   "codemirror_mode": {
    "name": "ipython",
    "version": 3
   },
   "file_extension": ".py",
   "mimetype": "text/x-python",
   "name": "python",
   "nbconvert_exporter": "python",
   "pygments_lexer": "ipython3",
   "version": "3.8.5"
  }
 },
 "nbformat": 4,
 "nbformat_minor": 4
}
