{
 "cells": [
  {
   "cell_type": "code",
   "execution_count": null,
   "metadata": {},
   "outputs": [
    {
     "name": "stdout",
     "output_type": "stream",
     "text": [
      "숫자를 입력해주세요 : 80\n",
      "더 큰 숫자입니다\n",
      "숫자를 입력해주세요 : 50\n",
      "더 큰 숫자입니다\n",
      "숫자를 입력해주세요 : 950\n",
      "더 작은 숫자입니다\n",
      "숫자를 입력해주세요 : 850\n",
      "더 작은 숫자입니다\n",
      "숫자를 입력해주세요 : 750\n",
      "더 작은 숫자입니다\n",
      "숫자를 입력해주세요 : 60\n",
      "더 큰 숫자입니다\n",
      "숫자를 입력해주세요 : 600\n",
      "더 작은 숫자입니다\n",
      "숫자를 입력해주세요 : 400\n",
      "더 큰 숫자입니다\n",
      "숫자를 입력해주세요 : 450\n",
      "더 작은 숫자입니다\n",
      "숫자를 입력해주세요 : 430\n",
      "더 작은 숫자입니다\n",
      "숫자를 입력해주세요 : 420\n",
      "더 큰 숫자입니다\n",
      "숫자를 입력해주세요 : 421\n",
      "더 큰 숫자입니다\n",
      "숫자를 입력해주세요 : 423\n",
      "더 큰 숫자입니다\n",
      "숫자를 입력해주세요 : 425\n",
      "더 큰 숫자입니다\n",
      "숫자를 입력해주세요 : 428\n",
      "더 큰 숫자입니다\n"
     ]
    }
   ],
   "source": [
    "import random\n",
    "number = random.randint(1,999)\n",
    "\n",
    "while True:\n",
    "    num = int(input(\"숫자를 입력해주세요 : \"))\n",
    "    if num < number:\n",
    "        print(\"더 큰 숫자입니다\")\n",
    "    elif num > number:\n",
    "        print(\"더 작은 숫자입니다\")\n",
    "    else :\n",
    "        print(\"정답입니다!\")\n",
    "    "
   ]
  },
  {
   "cell_type": "code",
   "execution_count": null,
   "metadata": {},
   "outputs": [],
   "source": []
  }
 ],
 "metadata": {
  "kernelspec": {
   "display_name": "Python 3",
   "language": "python",
   "name": "python3"
  },
  "language_info": {
   "codemirror_mode": {
    "name": "ipython",
    "version": 3
   },
   "file_extension": ".py",
   "mimetype": "text/x-python",
   "name": "python",
   "nbconvert_exporter": "python",
   "pygments_lexer": "ipython3",
   "version": "3.8.5"
  }
 },
 "nbformat": 4,
 "nbformat_minor": 4
}
